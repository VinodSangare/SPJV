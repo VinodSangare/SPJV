{
 "cells": [
  {
   "cell_type": "markdown",
   "metadata": {},
   "source": [
    "## Applying Functions To List Items"
   ]
  },
  {
   "cell_type": "markdown",
   "metadata": {},
   "source": [
    "#### Create a list of regiment names"
   ]
  },
  {
   "cell_type": "code",
   "execution_count": 1,
   "metadata": {},
   "outputs": [],
   "source": [
    "regimentNames = ['Night Riflemen', 'Jungle Scouts', 'The Dragoons', 'Midnight Revengence', 'Wily Warriors']"
   ]
  },
  {
   "cell_type": "markdown",
   "metadata": {},
   "source": [
    "### Using A For Loop"
   ]
  },
  {
   "cell_type": "markdown",
   "metadata": {},
   "source": [
    "#### Create a for loop goes through the list and capitalizes each"
   ]
  },
  {
   "cell_type": "code",
   "execution_count": 2,
   "metadata": {},
   "outputs": [
    {
     "data": {
      "text/plain": [
       "['NIGHT RIFLEMEN',\n",
       " 'JUNGLE SCOUTS',\n",
       " 'THE DRAGOONS',\n",
       " 'MIDNIGHT REVENGENCE',\n",
       " 'WILY WARRIORS']"
      ]
     },
     "execution_count": 2,
     "metadata": {},
     "output_type": "execute_result"
    }
   ],
   "source": [
    "# create a variable for the for loop results\n",
    "regimentNamesCapitalized_f = []\n",
    "\n",
    "# for every item in regimentNames\n",
    "for i in regimentNames:\n",
    "    # capitalize the item and add it to regimentNamesCapitalized_f\n",
    "    regimentNamesCapitalized_f.append(i.upper())\n",
    "\n",
    "#view the outcome\n",
    "regimentNamesCapitalized_f"
   ]
  },
  {
   "cell_type": "markdown",
   "metadata": {},
   "source": [
    "### Using Map()"
   ]
  },
  {
   "cell_type": "markdown",
   "metadata": {},
   "source": [
    "#### Create a lambda function that capitalizes x"
   ]
  },
  {
   "cell_type": "code",
   "execution_count": 3,
   "metadata": {},
   "outputs": [],
   "source": [
    "captalizer = lambda x: x.upper()"
   ]
  },
  {
   "cell_type": "markdown",
   "metadata": {},
   "source": [
    "#### Map the capitalizer function to regimentNames, convert the map into a list, and view the variable"
   ]
  },
  {
   "cell_type": "code",
   "execution_count": 4,
   "metadata": {},
   "outputs": [
    {
     "data": {
      "text/plain": [
       "['NIGHT RIFLEMEN',\n",
       " 'JUNGLE SCOUTS',\n",
       " 'THE DRAGOONS',\n",
       " 'MIDNIGHT REVENGENCE',\n",
       " 'WILY WARRIORS']"
      ]
     },
     "execution_count": 4,
     "metadata": {},
     "output_type": "execute_result"
    }
   ],
   "source": [
    "regimentNamesCapitalized_f = list(map(captalizer, regimentNames));\n",
    "regimentNamesCapitalized_f"
   ]
  },
  {
   "cell_type": "markdown",
   "metadata": {},
   "source": [
    "### Using List Comprehension"
   ]
  },
  {
   "cell_type": "markdown",
   "metadata": {},
   "source": [
    "#### Apply the expression x.upper to each item in the list called regiment names. Then view the output"
   ]
  },
  {
   "cell_type": "code",
   "execution_count": 5,
   "metadata": {},
   "outputs": [
    {
     "data": {
      "text/plain": [
       "['NIGHT RIFLEMEN',\n",
       " 'JUNGLE SCOUTS',\n",
       " 'THE DRAGOONS',\n",
       " 'MIDNIGHT REVENGENCE',\n",
       " 'WILY WARRIORS']"
      ]
     },
     "execution_count": 5,
     "metadata": {},
     "output_type": "execute_result"
    }
   ],
   "source": [
    "regimentNamesCapitalized_l = [x.upper() for x in regimentNames]\n",
    "regimentNamesCapitalized_l"
   ]
  }
 ],
 "metadata": {
  "kernelspec": {
   "display_name": "Python 3",
   "language": "python",
   "name": "python3"
  },
  "language_info": {
   "codemirror_mode": {
    "name": "ipython",
    "version": 3
   },
   "file_extension": ".py",
   "mimetype": "text/x-python",
   "name": "python",
   "nbconvert_exporter": "python",
   "pygments_lexer": "ipython3",
   "version": "3.7.1"
  }
 },
 "nbformat": 4,
 "nbformat_minor": 2
}
